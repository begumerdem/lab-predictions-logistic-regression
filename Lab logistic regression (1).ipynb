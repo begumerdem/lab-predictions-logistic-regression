{
 "cells": [
  {
   "cell_type": "markdown",
   "id": "65725c3f",
   "metadata": {},
   "source": [
    "# Lab | Making predictions with logistic regression\n",
    "\n",
    "In this lab, you will be using the [Sakila](https://dev.mysql.com/doc/sakila/en/) database of movie rentals.\n",
    "\n",
    "In order to optimize our inventory, we would like to know which films will be rented next month and we are asked to create a model to predict it.\n",
    "\n",
    "\n",
    "### Instructions\n",
    "\n",
    "1. Create a query or queries to extract the information you think may be relevant for building the prediction model. It should include some film features and some rental features. Use the data from 2005.\n",
    "2. Create a query to get the list of films and a boolean indicating if it was rented last month (May 2005). This would be our target variable.\n",
    "3. Read the data into a Pandas dataframe.\n",
    "4. Analyze extracted features and transform them. You may need to encode some categorical variables, or scale numerical variables.\n",
    "5. Create a logistic regression model to predict this variable from the cleaned data.\n",
    "6. Evaluate the results.\n"
   ]
  },
  {
   "cell_type": "markdown",
   "id": "1f596f23",
   "metadata": {},
   "source": [
    "## Import libraries and get database password"
   ]
  },
  {
   "cell_type": "code",
   "execution_count": 90,
   "id": "dee9e167",
   "metadata": {
    "ExecuteTime": {
     "end_time": "2022-09-22T14:08:59.726546Z",
     "start_time": "2022-09-22T14:08:56.889697Z"
    }
   },
   "outputs": [
    {
     "name": "stdout",
     "output_type": "stream",
     "text": [
      "········\n"
     ]
    }
   ],
   "source": [
    "import pymysql\n",
    "from sqlalchemy import create_engine\n",
    "import pandas as pd\n",
    "import numpy as np\n",
    "import getpass  # To get the password without showing the input\n",
    "password = getpass.getpass()"
   ]
  },
  {
   "cell_type": "code",
   "execution_count": 72,
   "id": "0db34c07",
   "metadata": {},
   "outputs": [],
   "source": [
    "import matplotlib.pyplot as plt\n",
    "import seaborn as sns\n",
    "%matplotlib inline\n",
    "from sklearn.model_selection import train_test_split\n",
    "from sklearn.preprocessing import OneHotEncoder"
   ]
  },
  {
   "cell_type": "markdown",
   "id": "0d4da0ed",
   "metadata": {
    "ExecuteTime": {
     "end_time": "2022-09-22T13:47:03.473557Z",
     "start_time": "2022-09-22T13:47:03.457551Z"
    }
   },
   "source": [
    "## Get database data through sql"
   ]
  },
  {
   "cell_type": "code",
   "execution_count": 55,
   "id": "402dc604",
   "metadata": {},
   "outputs": [
    {
     "data": {
      "text/html": [
       "<div>\n",
       "<style scoped>\n",
       "    .dataframe tbody tr th:only-of-type {\n",
       "        vertical-align: middle;\n",
       "    }\n",
       "\n",
       "    .dataframe tbody tr th {\n",
       "        vertical-align: top;\n",
       "    }\n",
       "\n",
       "    .dataframe thead th {\n",
       "        text-align: right;\n",
       "    }\n",
       "</style>\n",
       "<table border=\"1\" class=\"dataframe\">\n",
       "  <thead>\n",
       "    <tr style=\"text-align: right;\">\n",
       "      <th></th>\n",
       "      <th>film_id</th>\n",
       "      <th>title</th>\n",
       "      <th>release_year</th>\n",
       "      <th>language_id</th>\n",
       "      <th>original_language_id</th>\n",
       "      <th>rental_rate</th>\n",
       "      <th>length</th>\n",
       "      <th>rating</th>\n",
       "      <th>rental_duration</th>\n",
       "      <th>replacement_cost</th>\n",
       "      <th>language</th>\n",
       "      <th>category</th>\n",
       "      <th>rental_date</th>\n",
       "      <th>amount</th>\n",
       "    </tr>\n",
       "  </thead>\n",
       "  <tbody>\n",
       "    <tr>\n",
       "      <th>0</th>\n",
       "      <td>1</td>\n",
       "      <td>ACADEMY DINOSAUR</td>\n",
       "      <td>2006</td>\n",
       "      <td>1</td>\n",
       "      <td>None</td>\n",
       "      <td>0.99</td>\n",
       "      <td>86</td>\n",
       "      <td>PG</td>\n",
       "      <td>6</td>\n",
       "      <td>20.99</td>\n",
       "      <td>English</td>\n",
       "      <td>Documentary</td>\n",
       "      <td>2005-07-08 19:03:15</td>\n",
       "      <td>0.99</td>\n",
       "    </tr>\n",
       "    <tr>\n",
       "      <th>1</th>\n",
       "      <td>1</td>\n",
       "      <td>ACADEMY DINOSAUR</td>\n",
       "      <td>2006</td>\n",
       "      <td>1</td>\n",
       "      <td>None</td>\n",
       "      <td>0.99</td>\n",
       "      <td>86</td>\n",
       "      <td>PG</td>\n",
       "      <td>6</td>\n",
       "      <td>20.99</td>\n",
       "      <td>English</td>\n",
       "      <td>Documentary</td>\n",
       "      <td>2005-08-02 20:13:10</td>\n",
       "      <td>3.99</td>\n",
       "    </tr>\n",
       "    <tr>\n",
       "      <th>2</th>\n",
       "      <td>1</td>\n",
       "      <td>ACADEMY DINOSAUR</td>\n",
       "      <td>2006</td>\n",
       "      <td>1</td>\n",
       "      <td>None</td>\n",
       "      <td>0.99</td>\n",
       "      <td>86</td>\n",
       "      <td>PG</td>\n",
       "      <td>6</td>\n",
       "      <td>20.99</td>\n",
       "      <td>English</td>\n",
       "      <td>Documentary</td>\n",
       "      <td>2005-08-21 21:27:43</td>\n",
       "      <td>3.99</td>\n",
       "    </tr>\n",
       "    <tr>\n",
       "      <th>3</th>\n",
       "      <td>1</td>\n",
       "      <td>ACADEMY DINOSAUR</td>\n",
       "      <td>2006</td>\n",
       "      <td>1</td>\n",
       "      <td>None</td>\n",
       "      <td>0.99</td>\n",
       "      <td>86</td>\n",
       "      <td>PG</td>\n",
       "      <td>6</td>\n",
       "      <td>20.99</td>\n",
       "      <td>English</td>\n",
       "      <td>Documentary</td>\n",
       "      <td>2005-05-30 20:21:07</td>\n",
       "      <td>1.99</td>\n",
       "    </tr>\n",
       "    <tr>\n",
       "      <th>4</th>\n",
       "      <td>1</td>\n",
       "      <td>ACADEMY DINOSAUR</td>\n",
       "      <td>2006</td>\n",
       "      <td>1</td>\n",
       "      <td>None</td>\n",
       "      <td>0.99</td>\n",
       "      <td>86</td>\n",
       "      <td>PG</td>\n",
       "      <td>6</td>\n",
       "      <td>20.99</td>\n",
       "      <td>English</td>\n",
       "      <td>Documentary</td>\n",
       "      <td>2005-06-17 20:24:00</td>\n",
       "      <td>0.99</td>\n",
       "    </tr>\n",
       "  </tbody>\n",
       "</table>\n",
       "</div>"
      ],
      "text/plain": [
       "   film_id             title  release_year  language_id original_language_id  \\\n",
       "0        1  ACADEMY DINOSAUR          2006            1                 None   \n",
       "1        1  ACADEMY DINOSAUR          2006            1                 None   \n",
       "2        1  ACADEMY DINOSAUR          2006            1                 None   \n",
       "3        1  ACADEMY DINOSAUR          2006            1                 None   \n",
       "4        1  ACADEMY DINOSAUR          2006            1                 None   \n",
       "\n",
       "   rental_rate  length rating  rental_duration  replacement_cost language  \\\n",
       "0         0.99      86     PG                6             20.99  English   \n",
       "1         0.99      86     PG                6             20.99  English   \n",
       "2         0.99      86     PG                6             20.99  English   \n",
       "3         0.99      86     PG                6             20.99  English   \n",
       "4         0.99      86     PG                6             20.99  English   \n",
       "\n",
       "      category         rental_date  amount  \n",
       "0  Documentary 2005-07-08 19:03:15    0.99  \n",
       "1  Documentary 2005-08-02 20:13:10    3.99  \n",
       "2  Documentary 2005-08-21 21:27:43    3.99  \n",
       "3  Documentary 2005-05-30 20:21:07    1.99  \n",
       "4  Documentary 2005-06-17 20:24:00    0.99  "
      ]
     },
     "execution_count": 55,
     "metadata": {},
     "output_type": "execute_result"
    }
   ],
   "source": [
    "# get the data\n",
    "connection_string = 'mysql+pymysql://root:' + password + '@localhost/sakila'\n",
    "engine = create_engine(connection_string)\n",
    "query = '''select f.film_id, f.title, f.release_year, f.language_id,\n",
    "       f.original_language_id, f.rental_rate, f.length, f.rating,f.rental_duration,\n",
    "       f.replacement_cost,\n",
    "       l.name as 'language',\n",
    "       c.name as 'category', r.rental_date, p.amount from film f\n",
    "left join inventory i on f.film_id=i.film_id\n",
    "left join film_category fc on f.film_id=fc.film_id\n",
    "left join category c on c.category_id=fc.category_id\n",
    "left join language l on l.language_id=f.language_id\n",
    "left join rental r on r.inventory_id=i.inventory_id\n",
    "left join payment p on p.rental_id=r.rental_id\n",
    "ORDER BY f.film_id ASC;'''\n",
    "\n",
    "sakila = pd.read_sql_query(query, engine)\n",
    "sakila.head()"
   ]
  },
  {
   "cell_type": "code",
   "execution_count": 42,
   "id": "0afbdbc8",
   "metadata": {},
   "outputs": [],
   "source": [
    "# define a function for the target"
   ]
  },
  {
   "cell_type": "code",
   "execution_count": 56,
   "id": "015e1cba",
   "metadata": {},
   "outputs": [],
   "source": [
    "def check_rental(text):\n",
    "        if '2005-05' in str(text):\n",
    "            return 'rented'\n",
    "        else:\n",
    "            return 'not rented'\n",
    "        \n",
    "sakila[\"rental_status\"] = sakila['rental_date'].apply(lambda x: check_rental(x))"
   ]
  },
  {
   "cell_type": "code",
   "execution_count": 57,
   "id": "0b7e5f59",
   "metadata": {},
   "outputs": [
    {
     "data": {
      "text/plain": [
       "0    not rented\n",
       "1    not rented\n",
       "2    not rented\n",
       "3        rented\n",
       "4    not rented\n",
       "Name: rental_status, dtype: object"
      ]
     },
     "execution_count": 57,
     "metadata": {},
     "output_type": "execute_result"
    }
   ],
   "source": [
    "sakila[\"rental_status\"].head()"
   ]
  },
  {
   "cell_type": "code",
   "execution_count": 58,
   "id": "6446a1ca",
   "metadata": {},
   "outputs": [
    {
     "data": {
      "text/html": [
       "<div>\n",
       "<style scoped>\n",
       "    .dataframe tbody tr th:only-of-type {\n",
       "        vertical-align: middle;\n",
       "    }\n",
       "\n",
       "    .dataframe tbody tr th {\n",
       "        vertical-align: top;\n",
       "    }\n",
       "\n",
       "    .dataframe thead th {\n",
       "        text-align: right;\n",
       "    }\n",
       "</style>\n",
       "<table border=\"1\" class=\"dataframe\">\n",
       "  <thead>\n",
       "    <tr style=\"text-align: right;\">\n",
       "      <th></th>\n",
       "      <th>film_id</th>\n",
       "      <th>title</th>\n",
       "      <th>release_year</th>\n",
       "      <th>language_id</th>\n",
       "      <th>original_language_id</th>\n",
       "      <th>rental_rate</th>\n",
       "      <th>length</th>\n",
       "      <th>rating</th>\n",
       "      <th>rental_duration</th>\n",
       "      <th>replacement_cost</th>\n",
       "      <th>language</th>\n",
       "      <th>category</th>\n",
       "      <th>rental_date</th>\n",
       "      <th>amount</th>\n",
       "      <th>rental_status</th>\n",
       "    </tr>\n",
       "  </thead>\n",
       "  <tbody>\n",
       "    <tr>\n",
       "      <th>0</th>\n",
       "      <td>1</td>\n",
       "      <td>ACADEMY DINOSAUR</td>\n",
       "      <td>2006</td>\n",
       "      <td>1</td>\n",
       "      <td>None</td>\n",
       "      <td>0.99</td>\n",
       "      <td>86</td>\n",
       "      <td>PG</td>\n",
       "      <td>6</td>\n",
       "      <td>20.99</td>\n",
       "      <td>English</td>\n",
       "      <td>Documentary</td>\n",
       "      <td>2005-07-08 19:03:15</td>\n",
       "      <td>0.99</td>\n",
       "      <td>not rented</td>\n",
       "    </tr>\n",
       "    <tr>\n",
       "      <th>1</th>\n",
       "      <td>1</td>\n",
       "      <td>ACADEMY DINOSAUR</td>\n",
       "      <td>2006</td>\n",
       "      <td>1</td>\n",
       "      <td>None</td>\n",
       "      <td>0.99</td>\n",
       "      <td>86</td>\n",
       "      <td>PG</td>\n",
       "      <td>6</td>\n",
       "      <td>20.99</td>\n",
       "      <td>English</td>\n",
       "      <td>Documentary</td>\n",
       "      <td>2005-08-02 20:13:10</td>\n",
       "      <td>3.99</td>\n",
       "      <td>not rented</td>\n",
       "    </tr>\n",
       "    <tr>\n",
       "      <th>2</th>\n",
       "      <td>1</td>\n",
       "      <td>ACADEMY DINOSAUR</td>\n",
       "      <td>2006</td>\n",
       "      <td>1</td>\n",
       "      <td>None</td>\n",
       "      <td>0.99</td>\n",
       "      <td>86</td>\n",
       "      <td>PG</td>\n",
       "      <td>6</td>\n",
       "      <td>20.99</td>\n",
       "      <td>English</td>\n",
       "      <td>Documentary</td>\n",
       "      <td>2005-08-21 21:27:43</td>\n",
       "      <td>3.99</td>\n",
       "      <td>not rented</td>\n",
       "    </tr>\n",
       "    <tr>\n",
       "      <th>3</th>\n",
       "      <td>1</td>\n",
       "      <td>ACADEMY DINOSAUR</td>\n",
       "      <td>2006</td>\n",
       "      <td>1</td>\n",
       "      <td>None</td>\n",
       "      <td>0.99</td>\n",
       "      <td>86</td>\n",
       "      <td>PG</td>\n",
       "      <td>6</td>\n",
       "      <td>20.99</td>\n",
       "      <td>English</td>\n",
       "      <td>Documentary</td>\n",
       "      <td>2005-05-30 20:21:07</td>\n",
       "      <td>1.99</td>\n",
       "      <td>rented</td>\n",
       "    </tr>\n",
       "    <tr>\n",
       "      <th>4</th>\n",
       "      <td>1</td>\n",
       "      <td>ACADEMY DINOSAUR</td>\n",
       "      <td>2006</td>\n",
       "      <td>1</td>\n",
       "      <td>None</td>\n",
       "      <td>0.99</td>\n",
       "      <td>86</td>\n",
       "      <td>PG</td>\n",
       "      <td>6</td>\n",
       "      <td>20.99</td>\n",
       "      <td>English</td>\n",
       "      <td>Documentary</td>\n",
       "      <td>2005-06-17 20:24:00</td>\n",
       "      <td>0.99</td>\n",
       "      <td>not rented</td>\n",
       "    </tr>\n",
       "  </tbody>\n",
       "</table>\n",
       "</div>"
      ],
      "text/plain": [
       "   film_id             title  release_year  language_id original_language_id  \\\n",
       "0        1  ACADEMY DINOSAUR          2006            1                 None   \n",
       "1        1  ACADEMY DINOSAUR          2006            1                 None   \n",
       "2        1  ACADEMY DINOSAUR          2006            1                 None   \n",
       "3        1  ACADEMY DINOSAUR          2006            1                 None   \n",
       "4        1  ACADEMY DINOSAUR          2006            1                 None   \n",
       "\n",
       "   rental_rate  length rating  rental_duration  replacement_cost language  \\\n",
       "0         0.99      86     PG                6             20.99  English   \n",
       "1         0.99      86     PG                6             20.99  English   \n",
       "2         0.99      86     PG                6             20.99  English   \n",
       "3         0.99      86     PG                6             20.99  English   \n",
       "4         0.99      86     PG                6             20.99  English   \n",
       "\n",
       "      category         rental_date  amount rental_status  \n",
       "0  Documentary 2005-07-08 19:03:15    0.99    not rented  \n",
       "1  Documentary 2005-08-02 20:13:10    3.99    not rented  \n",
       "2  Documentary 2005-08-21 21:27:43    3.99    not rented  \n",
       "3  Documentary 2005-05-30 20:21:07    1.99        rented  \n",
       "4  Documentary 2005-06-17 20:24:00    0.99    not rented  "
      ]
     },
     "execution_count": 58,
     "metadata": {},
     "output_type": "execute_result"
    }
   ],
   "source": [
    "sakila.head()"
   ]
  },
  {
   "cell_type": "code",
   "execution_count": 59,
   "id": "ad69085a",
   "metadata": {},
   "outputs": [
    {
     "data": {
      "text/plain": [
       "Index(['film_id', 'title', 'release_year', 'language_id',\n",
       "       'original_language_id', 'rental_rate', 'length', 'rating',\n",
       "       'rental_duration', 'replacement_cost', 'language', 'category',\n",
       "       'rental_date', 'amount', 'rental_status'],\n",
       "      dtype='object')"
      ]
     },
     "execution_count": 59,
     "metadata": {},
     "output_type": "execute_result"
    }
   ],
   "source": [
    "sakila.columns"
   ]
  },
  {
   "cell_type": "code",
   "execution_count": 60,
   "id": "bbb740bf",
   "metadata": {},
   "outputs": [
    {
     "data": {
      "text/plain": [
       "film_id                     0\n",
       "title                       0\n",
       "release_year                0\n",
       "language_id                 0\n",
       "original_language_id    16087\n",
       "rental_rate                 0\n",
       "length                      0\n",
       "rating                      0\n",
       "rental_duration             0\n",
       "replacement_cost            0\n",
       "language                    0\n",
       "category                    0\n",
       "rental_date                43\n",
       "amount                     43\n",
       "rental_status               0\n",
       "dtype: int64"
      ]
     },
     "execution_count": 60,
     "metadata": {},
     "output_type": "execute_result"
    }
   ],
   "source": [
    "sakila.isna().sum()"
   ]
  },
  {
   "cell_type": "code",
   "execution_count": 61,
   "id": "8443a150",
   "metadata": {},
   "outputs": [
    {
     "data": {
      "text/plain": [
       "rental_rate          0\n",
       "length               0\n",
       "rating               0\n",
       "rental_duration      0\n",
       "replacement_cost     0\n",
       "language             0\n",
       "category             0\n",
       "amount              43\n",
       "rental_status        0\n",
       "dtype: int64"
      ]
     },
     "execution_count": 61,
     "metadata": {},
     "output_type": "execute_result"
    }
   ],
   "source": [
    "sakila.drop(axis=1, columns=['film_id', 'title', 'release_year','rental_date','language_id','original_language_id'], inplace=True)\n",
    "sakila.isna().sum()"
   ]
  },
  {
   "cell_type": "code",
   "execution_count": 62,
   "id": "249a37a5",
   "metadata": {},
   "outputs": [],
   "source": [
    "sakila=sakila.fillna(0)"
   ]
  },
  {
   "cell_type": "code",
   "execution_count": 63,
   "id": "b3af85f1",
   "metadata": {
    "ExecuteTime": {
     "end_time": "2022-09-22T14:57:51.879191Z",
     "start_time": "2022-09-22T14:57:51.869366Z"
    }
   },
   "outputs": [
    {
     "data": {
      "text/plain": [
       "0.99    5668\n",
       "4.99    5288\n",
       "2.99    5131\n",
       "Name: rental_rate, dtype: int64"
      ]
     },
     "execution_count": 63,
     "metadata": {},
     "output_type": "execute_result"
    }
   ],
   "source": [
    "# should categorized categorized\n",
    "sakila['rental_rate'].value_counts()"
   ]
  },
  {
   "cell_type": "code",
   "execution_count": 64,
   "id": "d1013a34",
   "metadata": {
    "ExecuteTime": {
     "end_time": "2022-09-22T14:57:56.844923Z",
     "start_time": "2022-09-22T14:57:56.839918Z"
    }
   },
   "outputs": [
    {
     "data": {
      "text/plain": [
       "85     305\n",
       "112    244\n",
       "84     216\n",
       "178    209\n",
       "92     196\n",
       "      ... \n",
       "94      43\n",
       "55      42\n",
       "72      42\n",
       "66      22\n",
       "96      20\n",
       "Name: length, Length: 140, dtype: int64"
      ]
     },
     "execution_count": 64,
     "metadata": {},
     "output_type": "execute_result"
    }
   ],
   "source": [
    "# bining the movies. 0,90,120,180-max\n",
    "sakila['length'].value_counts()"
   ]
  },
  {
   "cell_type": "code",
   "execution_count": 65,
   "id": "85df5689",
   "metadata": {
    "ExecuteTime": {
     "end_time": "2022-09-22T14:57:49.584127Z",
     "start_time": "2022-09-22T14:57:49.569112Z"
    }
   },
   "outputs": [
    {
     "data": {
      "text/plain": [
       "3    3418\n",
       "6    3402\n",
       "4    3260\n",
       "5    3170\n",
       "7    2837\n",
       "Name: rental_duration, dtype: int64"
      ]
     },
     "execution_count": 65,
     "metadata": {},
     "output_type": "execute_result"
    }
   ],
   "source": [
    "# should be categorized\n",
    "sakila['rental_duration'].value_counts()"
   ]
  },
  {
   "cell_type": "code",
   "execution_count": 66,
   "id": "12ac269b",
   "metadata": {
    "ExecuteTime": {
     "end_time": "2022-09-22T14:57:46.770226Z",
     "start_time": "2022-09-22T14:57:46.758214Z"
    },
    "scrolled": true
   },
   "outputs": [
    {
     "data": {
      "text/plain": [
       "22.99    1045\n",
       "27.99     960\n",
       "21.99     912\n",
       "29.99     869\n",
       "12.99     867\n",
       "20.99     866\n",
       "14.99     824\n",
       "13.99     808\n",
       "11.99     751\n",
       "25.99     742\n",
       "26.99     738\n",
       "10.99     723\n",
       "28.99     717\n",
       "18.99     698\n",
       "17.99     692\n",
       "23.99     691\n",
       "9.99      685\n",
       "19.99     662\n",
       "16.99     641\n",
       "24.99     634\n",
       "15.99     562\n",
       "Name: replacement_cost, dtype: int64"
      ]
     },
     "execution_count": 66,
     "metadata": {},
     "output_type": "execute_result"
    }
   ],
   "source": [
    "# should be categorized --- probably gonna drop this one\n",
    "sakila['replacement_cost'].value_counts()"
   ]
  },
  {
   "cell_type": "code",
   "execution_count": 67,
   "id": "7873fe5a",
   "metadata": {},
   "outputs": [
    {
     "data": {
      "text/plain": [
       "rental_rate         float64\n",
       "length                int64\n",
       "rating               object\n",
       "rental_duration       int64\n",
       "replacement_cost    float64\n",
       "language             object\n",
       "category             object\n",
       "amount              float64\n",
       "rental_status        object\n",
       "dtype: object"
      ]
     },
     "execution_count": 67,
     "metadata": {},
     "output_type": "execute_result"
    }
   ],
   "source": [
    "sakila.dtypes"
   ]
  },
  {
   "cell_type": "code",
   "execution_count": 68,
   "id": "57667485",
   "metadata": {},
   "outputs": [
    {
     "data": {
      "text/html": [
       "<div>\n",
       "<style scoped>\n",
       "    .dataframe tbody tr th:only-of-type {\n",
       "        vertical-align: middle;\n",
       "    }\n",
       "\n",
       "    .dataframe tbody tr th {\n",
       "        vertical-align: top;\n",
       "    }\n",
       "\n",
       "    .dataframe thead th {\n",
       "        text-align: right;\n",
       "    }\n",
       "</style>\n",
       "<table border=\"1\" class=\"dataframe\">\n",
       "  <thead>\n",
       "    <tr style=\"text-align: right;\">\n",
       "      <th></th>\n",
       "      <th>rental_rate</th>\n",
       "      <th>length</th>\n",
       "      <th>rating</th>\n",
       "      <th>rental_duration</th>\n",
       "      <th>replacement_cost</th>\n",
       "      <th>language</th>\n",
       "      <th>category</th>\n",
       "      <th>amount</th>\n",
       "      <th>rental_status</th>\n",
       "    </tr>\n",
       "  </thead>\n",
       "  <tbody>\n",
       "    <tr>\n",
       "      <th>0</th>\n",
       "      <td>0.99</td>\n",
       "      <td>86</td>\n",
       "      <td>PG</td>\n",
       "      <td>6</td>\n",
       "      <td>20.99</td>\n",
       "      <td>English</td>\n",
       "      <td>Documentary</td>\n",
       "      <td>0.99</td>\n",
       "      <td>not rented</td>\n",
       "    </tr>\n",
       "    <tr>\n",
       "      <th>1</th>\n",
       "      <td>0.99</td>\n",
       "      <td>86</td>\n",
       "      <td>PG</td>\n",
       "      <td>6</td>\n",
       "      <td>20.99</td>\n",
       "      <td>English</td>\n",
       "      <td>Documentary</td>\n",
       "      <td>3.99</td>\n",
       "      <td>not rented</td>\n",
       "    </tr>\n",
       "    <tr>\n",
       "      <th>2</th>\n",
       "      <td>0.99</td>\n",
       "      <td>86</td>\n",
       "      <td>PG</td>\n",
       "      <td>6</td>\n",
       "      <td>20.99</td>\n",
       "      <td>English</td>\n",
       "      <td>Documentary</td>\n",
       "      <td>3.99</td>\n",
       "      <td>not rented</td>\n",
       "    </tr>\n",
       "    <tr>\n",
       "      <th>3</th>\n",
       "      <td>0.99</td>\n",
       "      <td>86</td>\n",
       "      <td>PG</td>\n",
       "      <td>6</td>\n",
       "      <td>20.99</td>\n",
       "      <td>English</td>\n",
       "      <td>Documentary</td>\n",
       "      <td>1.99</td>\n",
       "      <td>rented</td>\n",
       "    </tr>\n",
       "    <tr>\n",
       "      <th>4</th>\n",
       "      <td>0.99</td>\n",
       "      <td>86</td>\n",
       "      <td>PG</td>\n",
       "      <td>6</td>\n",
       "      <td>20.99</td>\n",
       "      <td>English</td>\n",
       "      <td>Documentary</td>\n",
       "      <td>0.99</td>\n",
       "      <td>not rented</td>\n",
       "    </tr>\n",
       "  </tbody>\n",
       "</table>\n",
       "</div>"
      ],
      "text/plain": [
       "   rental_rate  length rating  rental_duration  replacement_cost language  \\\n",
       "0         0.99      86     PG                6             20.99  English   \n",
       "1         0.99      86     PG                6             20.99  English   \n",
       "2         0.99      86     PG                6             20.99  English   \n",
       "3         0.99      86     PG                6             20.99  English   \n",
       "4         0.99      86     PG                6             20.99  English   \n",
       "\n",
       "      category  amount rental_status  \n",
       "0  Documentary    0.99    not rented  \n",
       "1  Documentary    3.99    not rented  \n",
       "2  Documentary    3.99    not rented  \n",
       "3  Documentary    1.99        rented  \n",
       "4  Documentary    0.99    not rented  "
      ]
     },
     "execution_count": 68,
     "metadata": {},
     "output_type": "execute_result"
    }
   ],
   "source": [
    "sakila.head()"
   ]
  },
  {
   "cell_type": "code",
   "execution_count": 73,
   "id": "02085f09",
   "metadata": {},
   "outputs": [
    {
     "data": {
      "image/png": "[encoded data removed]",
      "text/plain": [
       "<Figure size 576x576 with 2 Axes>"
      ]
     },
     "metadata": {
      "needs_background": "light"
     },
     "output_type": "display_data"
    }
   ],
   "source": [
    "corr_matrix=sakila.corr(method='pearson')  # default\n",
    "fig, ax = plt.subplots(figsize=(8, 8))\n",
    "ax = sns.heatmap(corr_matrix, annot=True)\n",
    "plt.show()"
   ]
  },
  {
   "cell_type": "code",
   "execution_count": 76,
   "id": "81ffa23b",
   "metadata": {},
   "outputs": [],
   "source": [
    "sakila['rental_rate'] = sakila['rental_rate'].astype(object)\n",
    "\n",
    "# converting columns to object"
   ]
  },
  {
   "cell_type": "code",
   "execution_count": 77,
   "id": "8c51ae56",
   "metadata": {},
   "outputs": [
    {
     "data": {
      "text/plain": [
       "short       5251\n",
       "extended    3733\n",
       "long        3584\n",
       "normal      3519\n",
       "Name: length, dtype: int64"
      ]
     },
     "execution_count": 77,
     "metadata": {},
     "output_type": "execute_result"
    }
   ],
   "source": [
    "lbl = ['short', 'normal', 'long', 'extended'] \n",
    "sakila['length'] = pd.cut(sakila['length'],[0,90,120,150,int(sakila['length'].max())], labels=lbl) \n",
    "sakila['length'].value_counts()\n",
    "\n",
    "# making bins for length 0,90,120,150-max"
   ]
  },
  {
   "cell_type": "code",
   "execution_count": 78,
   "id": "f462dbe1",
   "metadata": {},
   "outputs": [],
   "source": [
    "sakila['length'] = sakila['length'].astype(object)"
   ]
  },
  {
   "cell_type": "code",
   "execution_count": 96,
   "id": "1721352b",
   "metadata": {},
   "outputs": [
    {
     "data": {
      "text/plain": [
       "rental_rate          object\n",
       "length               object\n",
       "rating               object\n",
       "rental_duration       int64\n",
       "replacement_cost    float64\n",
       "language             object\n",
       "category             object\n",
       "amount              float64\n",
       "rental_status        object\n",
       "dtype: object"
      ]
     },
     "execution_count": 96,
     "metadata": {},
     "output_type": "execute_result"
    }
   ],
   "source": [
    "sakila.dtypes"
   ]
  },
  {
   "cell_type": "markdown",
   "id": "72854695",
   "metadata": {},
   "source": [
    "# starting the regression analysis"
   ]
  },
  {
   "cell_type": "code",
   "execution_count": 97,
   "id": "77d951cc",
   "metadata": {},
   "outputs": [],
   "source": [
    "# X-y Split\n",
    "X = sakila.drop(['rental_status'], axis=1)\n",
    "y = sakila['rental_status']\n",
    "    \n",
    "# Train test Splits\n",
    "X_train, X_test, y_train, y_test = train_test_split(X, y, test_size=0.20, random_state=42)"
   ]
  },
  {
   "cell_type": "code",
   "execution_count": 98,
   "id": "fa2543fb",
   "metadata": {},
   "outputs": [
    {
     "data": {
      "text/plain": [
       "((12869, 8), (3218, 8), (12869,), (3218,))"
      ]
     },
     "execution_count": 98,
     "metadata": {},
     "output_type": "execute_result"
    }
   ],
   "source": [
    "X_train.shape , X_test.shape, y_train.shape, y_test.shape"
   ]
  },
  {
   "cell_type": "code",
   "execution_count": 99,
   "id": "7558483c",
   "metadata": {},
   "outputs": [
    {
     "data": {
      "text/html": [
       "<div>\n",
       "<style scoped>\n",
       "    .dataframe tbody tr th:only-of-type {\n",
       "        vertical-align: middle;\n",
       "    }\n",
       "\n",
       "    .dataframe tbody tr th {\n",
       "        vertical-align: top;\n",
       "    }\n",
       "\n",
       "    .dataframe thead th {\n",
       "        text-align: right;\n",
       "    }\n",
       "</style>\n",
       "<table border=\"1\" class=\"dataframe\">\n",
       "  <thead>\n",
       "    <tr style=\"text-align: right;\">\n",
       "      <th></th>\n",
       "      <th>rental_rate</th>\n",
       "      <th>length</th>\n",
       "      <th>rating</th>\n",
       "      <th>rental_duration</th>\n",
       "      <th>replacement_cost</th>\n",
       "      <th>language</th>\n",
       "      <th>category</th>\n",
       "      <th>amount</th>\n",
       "    </tr>\n",
       "  </thead>\n",
       "  <tbody>\n",
       "    <tr>\n",
       "      <th>5331</th>\n",
       "      <td>2.99</td>\n",
       "      <td>short</td>\n",
       "      <td>NC-17</td>\n",
       "      <td>6</td>\n",
       "      <td>25.99</td>\n",
       "      <td>English</td>\n",
       "      <td>Games</td>\n",
       "      <td>2.99</td>\n",
       "    </tr>\n",
       "    <tr>\n",
       "      <th>1183</th>\n",
       "      <td>4.99</td>\n",
       "      <td>extended</td>\n",
       "      <td>PG</td>\n",
       "      <td>4</td>\n",
       "      <td>18.99</td>\n",
       "      <td>English</td>\n",
       "      <td>Music</td>\n",
       "      <td>6.99</td>\n",
       "    </tr>\n",
       "    <tr>\n",
       "      <th>11998</th>\n",
       "      <td>0.99</td>\n",
       "      <td>normal</td>\n",
       "      <td>PG-13</td>\n",
       "      <td>4</td>\n",
       "      <td>16.99</td>\n",
       "      <td>English</td>\n",
       "      <td>Action</td>\n",
       "      <td>0.99</td>\n",
       "    </tr>\n",
       "    <tr>\n",
       "      <th>12581</th>\n",
       "      <td>2.99</td>\n",
       "      <td>normal</td>\n",
       "      <td>PG</td>\n",
       "      <td>5</td>\n",
       "      <td>22.99</td>\n",
       "      <td>English</td>\n",
       "      <td>Travel</td>\n",
       "      <td>3.99</td>\n",
       "    </tr>\n",
       "    <tr>\n",
       "      <th>7517</th>\n",
       "      <td>2.99</td>\n",
       "      <td>normal</td>\n",
       "      <td>PG</td>\n",
       "      <td>4</td>\n",
       "      <td>21.99</td>\n",
       "      <td>English</td>\n",
       "      <td>Sports</td>\n",
       "      <td>2.99</td>\n",
       "    </tr>\n",
       "  </tbody>\n",
       "</table>\n",
       "</div>"
      ],
      "text/plain": [
       "      rental_rate    length rating  rental_duration  replacement_cost  \\\n",
       "5331         2.99     short  NC-17                6             25.99   \n",
       "1183         4.99  extended     PG                4             18.99   \n",
       "11998        0.99    normal  PG-13                4             16.99   \n",
       "12581        2.99    normal     PG                5             22.99   \n",
       "7517         2.99    normal     PG                4             21.99   \n",
       "\n",
       "      language category  amount  \n",
       "5331   English    Games    2.99  \n",
       "1183   English    Music    6.99  \n",
       "11998  English   Action    0.99  \n",
       "12581  English   Travel    3.99  \n",
       "7517   English   Sports    2.99  "
      ]
     },
     "execution_count": 99,
     "metadata": {},
     "output_type": "execute_result"
    }
   ],
   "source": [
    "X_train.head()"
   ]
  },
  {
   "cell_type": "code",
   "execution_count": 100,
   "id": "934328d8",
   "metadata": {},
   "outputs": [
    {
     "data": {
      "text/plain": [
       "5331     not rented\n",
       "1183     not rented\n",
       "11998    not rented\n",
       "12581    not rented\n",
       "7517     not rented\n",
       "Name: rental_status, dtype: object"
      ]
     },
     "execution_count": 100,
     "metadata": {},
     "output_type": "execute_result"
    }
   ],
   "source": [
    "y_train.head()"
   ]
  },
  {
   "cell_type": "code",
   "execution_count": 101,
   "id": "2893a499",
   "metadata": {},
   "outputs": [
    {
     "data": {
      "text/plain": [
       "(12869, 3)"
      ]
     },
     "execution_count": 101,
     "metadata": {},
     "output_type": "execute_result"
    }
   ],
   "source": [
    "X_train_num = X_train.select_dtypes(include = np.number)\n",
    "X_train_num.shape"
   ]
  },
  {
   "cell_type": "code",
   "execution_count": 102,
   "id": "12a2ea5d",
   "metadata": {},
   "outputs": [
    {
     "data": {
      "text/html": [
       "<div>\n",
       "<style scoped>\n",
       "    .dataframe tbody tr th:only-of-type {\n",
       "        vertical-align: middle;\n",
       "    }\n",
       "\n",
       "    .dataframe tbody tr th {\n",
       "        vertical-align: top;\n",
       "    }\n",
       "\n",
       "    .dataframe thead th {\n",
       "        text-align: right;\n",
       "    }\n",
       "</style>\n",
       "<table border=\"1\" class=\"dataframe\">\n",
       "  <thead>\n",
       "    <tr style=\"text-align: right;\">\n",
       "      <th></th>\n",
       "      <th>rental_duration</th>\n",
       "      <th>replacement_cost</th>\n",
       "      <th>amount</th>\n",
       "    </tr>\n",
       "  </thead>\n",
       "  <tbody>\n",
       "    <tr>\n",
       "      <th>0</th>\n",
       "      <td>0.75</td>\n",
       "      <td>0.80</td>\n",
       "      <td>0.249374</td>\n",
       "    </tr>\n",
       "    <tr>\n",
       "      <th>1</th>\n",
       "      <td>0.25</td>\n",
       "      <td>0.45</td>\n",
       "      <td>0.582986</td>\n",
       "    </tr>\n",
       "    <tr>\n",
       "      <th>2</th>\n",
       "      <td>0.25</td>\n",
       "      <td>0.35</td>\n",
       "      <td>0.082569</td>\n",
       "    </tr>\n",
       "    <tr>\n",
       "      <th>3</th>\n",
       "      <td>0.50</td>\n",
       "      <td>0.65</td>\n",
       "      <td>0.332777</td>\n",
       "    </tr>\n",
       "    <tr>\n",
       "      <th>4</th>\n",
       "      <td>0.25</td>\n",
       "      <td>0.60</td>\n",
       "      <td>0.249374</td>\n",
       "    </tr>\n",
       "  </tbody>\n",
       "</table>\n",
       "</div>"
      ],
      "text/plain": [
       "   rental_duration  replacement_cost    amount\n",
       "0             0.75              0.80  0.249374\n",
       "1             0.25              0.45  0.582986\n",
       "2             0.25              0.35  0.082569\n",
       "3             0.50              0.65  0.332777\n",
       "4             0.25              0.60  0.249374"
      ]
     },
     "execution_count": 102,
     "metadata": {},
     "output_type": "execute_result"
    }
   ],
   "source": [
    "#MinMaxScaling\n",
    "\n",
    "from sklearn.preprocessing import MinMaxScaler\n",
    "\n",
    "X_train_num = X_train.select_dtypes(include = np.number)\n",
    "\n",
    "transformer = MinMaxScaler().fit(X_train_num) \n",
    "X_train_normalized = transformer.transform(X_train_num)\n",
    "X_train_norm = pd.DataFrame(X_train_normalized, columns=X_train_num.columns) \n",
    "X_train_norm.head()"
   ]
  },
  {
   "cell_type": "code",
   "execution_count": 103,
   "id": "0c5cb6e4",
   "metadata": {},
   "outputs": [
    {
     "data": {
      "text/plain": [
       "(12869, 3)"
      ]
     },
     "execution_count": 103,
     "metadata": {},
     "output_type": "execute_result"
    }
   ],
   "source": [
    "X_train_norm.shape"
   ]
  },
  {
   "cell_type": "code",
   "execution_count": 105,
   "id": "d8054cf5",
   "metadata": {},
   "outputs": [
    {
     "data": {
      "text/html": [
       "<div>\n",
       "<style scoped>\n",
       "    .dataframe tbody tr th:only-of-type {\n",
       "        vertical-align: middle;\n",
       "    }\n",
       "\n",
       "    .dataframe tbody tr th {\n",
       "        vertical-align: top;\n",
       "    }\n",
       "\n",
       "    .dataframe thead th {\n",
       "        text-align: right;\n",
       "    }\n",
       "</style>\n",
       "<table border=\"1\" class=\"dataframe\">\n",
       "  <thead>\n",
       "    <tr style=\"text-align: right;\">\n",
       "      <th></th>\n",
       "      <th>rental_duration</th>\n",
       "      <th>replacement_cost</th>\n",
       "      <th>amount</th>\n",
       "    </tr>\n",
       "  </thead>\n",
       "  <tbody>\n",
       "    <tr>\n",
       "      <th>0</th>\n",
       "      <td>1.00</td>\n",
       "      <td>0.60</td>\n",
       "      <td>0.332777</td>\n",
       "    </tr>\n",
       "    <tr>\n",
       "      <th>1</th>\n",
       "      <td>0.00</td>\n",
       "      <td>0.20</td>\n",
       "      <td>0.666389</td>\n",
       "    </tr>\n",
       "    <tr>\n",
       "      <th>2</th>\n",
       "      <td>0.75</td>\n",
       "      <td>0.95</td>\n",
       "      <td>0.082569</td>\n",
       "    </tr>\n",
       "    <tr>\n",
       "      <th>3</th>\n",
       "      <td>0.50</td>\n",
       "      <td>0.15</td>\n",
       "      <td>0.582986</td>\n",
       "    </tr>\n",
       "    <tr>\n",
       "      <th>4</th>\n",
       "      <td>1.00</td>\n",
       "      <td>0.55</td>\n",
       "      <td>0.082569</td>\n",
       "    </tr>\n",
       "  </tbody>\n",
       "</table>\n",
       "</div>"
      ],
      "text/plain": [
       "   rental_duration  replacement_cost    amount\n",
       "0             1.00              0.60  0.332777\n",
       "1             0.00              0.20  0.666389\n",
       "2             0.75              0.95  0.082569\n",
       "3             0.50              0.15  0.582986\n",
       "4             1.00              0.55  0.082569"
      ]
     },
     "execution_count": 105,
     "metadata": {},
     "output_type": "execute_result"
    }
   ],
   "source": [
    "X_test_num = X_test.select_dtypes(include = np.number)\n",
    "\n",
    "X_test_normalized = transformer.transform(X_test_num)\n",
    "X_test_norm = pd.DataFrame(X_test_normalized, columns=X_test_num.columns) \n",
    "X_test_norm.head()"
   ]
  },
  {
   "cell_type": "code",
   "execution_count": 106,
   "id": "b2e227d7",
   "metadata": {},
   "outputs": [
    {
     "data": {
      "text/plain": [
       "(3218, 3)"
      ]
     },
     "execution_count": 106,
     "metadata": {},
     "output_type": "execute_result"
    }
   ],
   "source": [
    "X_test_norm.shape"
   ]
  },
  {
   "cell_type": "code",
   "execution_count": 107,
   "id": "1a281ce4",
   "metadata": {},
   "outputs": [],
   "source": [
    "from sklearn.preprocessing import OneHotEncoder\n",
    "\n",
    "X_train_categorical = X_train.select_dtypes(include = object)\n",
    "\n",
    "encoder = OneHotEncoder(drop='first').fit(X_train_categorical) \n",
    "cols=encoder.get_feature_names_out(input_features=X_train_categorical.columns)\n",
    "encoded = encoder.transform(X_train_categorical).toarray()\n",
    "X_train_cat = pd.DataFrame(encoded,columns=cols)\n"
   ]
  },
  {
   "cell_type": "code",
   "execution_count": 108,
   "id": "66a87f6b",
   "metadata": {},
   "outputs": [
    {
     "data": {
      "text/plain": [
       "(12869, 24)"
      ]
     },
     "execution_count": 108,
     "metadata": {},
     "output_type": "execute_result"
    }
   ],
   "source": [
    "X_train_cat.shape"
   ]
  },
  {
   "cell_type": "code",
   "execution_count": 109,
   "id": "6f3857fd",
   "metadata": {},
   "outputs": [],
   "source": [
    "X_test_categorical = X_test.select_dtypes(include = object)\n",
    "\n",
    "cols=encoder.get_feature_names_out(input_features=X_test_categorical.columns)\n",
    "encoded = encoder.transform(X_test_categorical).toarray()\n",
    "X_test_cat = pd.DataFrame(encoded,columns=cols)"
   ]
  },
  {
   "cell_type": "code",
   "execution_count": 110,
   "id": "f8d547ef",
   "metadata": {},
   "outputs": [
    {
     "data": {
      "text/plain": [
       "(3218, 24)"
      ]
     },
     "execution_count": 110,
     "metadata": {},
     "output_type": "execute_result"
    }
   ],
   "source": [
    "X_test_cat.shape"
   ]
  },
  {
   "cell_type": "code",
   "execution_count": null,
   "id": "ee0dc5bd",
   "metadata": {},
   "outputs": [],
   "source": [
    "# Concat the numerical and categoricals after transformation"
   ]
  },
  {
   "cell_type": "code",
   "execution_count": null,
   "id": "c1c42e1e",
   "metadata": {},
   "outputs": [],
   "source": [
    "X_train_transformed = np.concatenate([X_train_norm, X_train_cat], axis=1)"
   ]
  },
  {
   "cell_type": "code",
   "execution_count": null,
   "id": "3658adbf",
   "metadata": {},
   "outputs": [],
   "source": [
    "X_test_transformed = np.concatenate([X_test_norm, X_test_cat], axis=1)"
   ]
  },
  {
   "cell_type": "code",
   "execution_count": null,
   "id": "14aa35b6",
   "metadata": {},
   "outputs": [],
   "source": []
  },
  {
   "cell_type": "code",
   "execution_count": null,
   "id": "3b803b7a",
   "metadata": {},
   "outputs": [],
   "source": []
  },
  {
   "cell_type": "code",
   "execution_count": 112,
   "id": "5e87f58e",
   "metadata": {},
   "outputs": [
    {
     "data": {
      "text/plain": [
       "0.9275947793660658"
      ]
     },
     "execution_count": 112,
     "metadata": {},
     "output_type": "execute_result"
    }
   ],
   "source": [
    "# time for regression analysis\n",
    "\n",
    "from sklearn.linear_model import LogisticRegression\n",
    "\n",
    "classification = LogisticRegression(solver='saga').fit(X_train_transformed, y_train)\n",
    "predictions = classification.predict(X_test_transformed)\n",
    "classification.score(X_test_transformed, y_test)"
   ]
  },
  {
   "cell_type": "code",
   "execution_count": 113,
   "id": "8c7c7807",
   "metadata": {},
   "outputs": [
    {
     "data": {
      "text/plain": [
       "not rented    2985\n",
       "rented         233\n",
       "Name: rental_status, dtype: int64"
      ]
     },
     "execution_count": 113,
     "metadata": {},
     "output_type": "execute_result"
    }
   ],
   "source": [
    "pd.Series(y_test).value_counts()"
   ]
  },
  {
   "cell_type": "code",
   "execution_count": 114,
   "id": "87541996",
   "metadata": {},
   "outputs": [
    {
     "data": {
      "text/plain": [
       "not rented    3218\n",
       "dtype: int64"
      ]
     },
     "execution_count": 114,
     "metadata": {},
     "output_type": "execute_result"
    }
   ],
   "source": [
    "pd.Series(predictions).value_counts()\n",
    "# overchoosing-emphasizing problem here"
   ]
  },
  {
   "cell_type": "code",
   "execution_count": 115,
   "id": "422860fe",
   "metadata": {},
   "outputs": [
    {
     "data": {
      "text/plain": [
       "0.9272840273461778"
      ]
     },
     "execution_count": 115,
     "metadata": {},
     "output_type": "execute_result"
    }
   ],
   "source": [
    "# trying KNN classifier as a second model and see if it give more accuracy\n",
    "from sklearn import neighbors\n",
    "clf = neighbors.KNeighborsClassifier(n_neighbors=4, weights='uniform')\n",
    "clf.fit(X_train_transformed, y_train)\n",
    "predictions_clf = clf.predict(X_test_transformed)\n",
    "clf.score(X_test_transformed, y_test)\n"
   ]
  },
  {
   "cell_type": "code",
   "execution_count": 116,
   "id": "a4dbddff",
   "metadata": {},
   "outputs": [
    {
     "data": {
      "text/plain": [
       "array([[2984,    1],\n",
       "       [ 233,    0]])"
      ]
     },
     "execution_count": 116,
     "metadata": {},
     "output_type": "execute_result"
    }
   ],
   "source": [
    "from sklearn.metrics import confusion_matrix\n",
    "confusion_matrix(y_test, predictions_clf)"
   ]
  },
  {
   "cell_type": "code",
   "execution_count": 117,
   "id": "74ad926d",
   "metadata": {},
   "outputs": [
    {
     "data": {
      "text/plain": [
       "not rented    2985\n",
       "rented         233\n",
       "Name: rental_status, dtype: int64"
      ]
     },
     "execution_count": 117,
     "metadata": {},
     "output_type": "execute_result"
    }
   ],
   "source": [
    "pd.Series(y_test).value_counts()"
   ]
  },
  {
   "cell_type": "code",
   "execution_count": 118,
   "id": "fe4ff8a0",
   "metadata": {},
   "outputs": [
    {
     "data": {
      "text/plain": [
       "not rented    3217\n",
       "rented           1\n",
       "dtype: int64"
      ]
     },
     "execution_count": 118,
     "metadata": {},
     "output_type": "execute_result"
    }
   ],
   "source": [
    "pd.Series(predictions_clf).value_counts()\n",
    "# not sure which model is more accurate KNN or SAGA"
   ]
  },
  {
   "cell_type": "code",
   "execution_count": null,
   "id": "25107587",
   "metadata": {},
   "outputs": [],
   "source": []
  },
  {
   "cell_type": "markdown",
   "id": "a856c6bb",
   "metadata": {},
   "source": [
    "# 1.0.2  Bonus: Validation with June 2005 data "
   ]
  },
  {
   "cell_type": "code",
   "execution_count": 119,
   "id": "44e1c6e7",
   "metadata": {},
   "outputs": [
    {
     "data": {
      "text/html": [
       "<div>\n",
       "<style scoped>\n",
       "    .dataframe tbody tr th:only-of-type {\n",
       "        vertical-align: middle;\n",
       "    }\n",
       "\n",
       "    .dataframe tbody tr th {\n",
       "        vertical-align: top;\n",
       "    }\n",
       "\n",
       "    .dataframe thead th {\n",
       "        text-align: right;\n",
       "    }\n",
       "</style>\n",
       "<table border=\"1\" class=\"dataframe\">\n",
       "  <thead>\n",
       "    <tr style=\"text-align: right;\">\n",
       "      <th></th>\n",
       "      <th>film_id</th>\n",
       "      <th>title</th>\n",
       "      <th>release_year</th>\n",
       "      <th>language_id</th>\n",
       "      <th>original_language_id</th>\n",
       "      <th>rental_rate</th>\n",
       "      <th>length</th>\n",
       "      <th>rating</th>\n",
       "      <th>rental_duration</th>\n",
       "      <th>replacement_cost</th>\n",
       "      <th>language</th>\n",
       "      <th>category</th>\n",
       "      <th>rental_date</th>\n",
       "      <th>amount</th>\n",
       "    </tr>\n",
       "  </thead>\n",
       "  <tbody>\n",
       "    <tr>\n",
       "      <th>0</th>\n",
       "      <td>1</td>\n",
       "      <td>ACADEMY DINOSAUR</td>\n",
       "      <td>2006</td>\n",
       "      <td>1</td>\n",
       "      <td>None</td>\n",
       "      <td>0.99</td>\n",
       "      <td>86</td>\n",
       "      <td>PG</td>\n",
       "      <td>6</td>\n",
       "      <td>20.99</td>\n",
       "      <td>English</td>\n",
       "      <td>Documentary</td>\n",
       "      <td>2005-07-08 19:03:15</td>\n",
       "      <td>0.99</td>\n",
       "    </tr>\n",
       "    <tr>\n",
       "      <th>1</th>\n",
       "      <td>1</td>\n",
       "      <td>ACADEMY DINOSAUR</td>\n",
       "      <td>2006</td>\n",
       "      <td>1</td>\n",
       "      <td>None</td>\n",
       "      <td>0.99</td>\n",
       "      <td>86</td>\n",
       "      <td>PG</td>\n",
       "      <td>6</td>\n",
       "      <td>20.99</td>\n",
       "      <td>English</td>\n",
       "      <td>Documentary</td>\n",
       "      <td>2005-08-02 20:13:10</td>\n",
       "      <td>3.99</td>\n",
       "    </tr>\n",
       "    <tr>\n",
       "      <th>2</th>\n",
       "      <td>1</td>\n",
       "      <td>ACADEMY DINOSAUR</td>\n",
       "      <td>2006</td>\n",
       "      <td>1</td>\n",
       "      <td>None</td>\n",
       "      <td>0.99</td>\n",
       "      <td>86</td>\n",
       "      <td>PG</td>\n",
       "      <td>6</td>\n",
       "      <td>20.99</td>\n",
       "      <td>English</td>\n",
       "      <td>Documentary</td>\n",
       "      <td>2005-08-21 21:27:43</td>\n",
       "      <td>3.99</td>\n",
       "    </tr>\n",
       "    <tr>\n",
       "      <th>3</th>\n",
       "      <td>1</td>\n",
       "      <td>ACADEMY DINOSAUR</td>\n",
       "      <td>2006</td>\n",
       "      <td>1</td>\n",
       "      <td>None</td>\n",
       "      <td>0.99</td>\n",
       "      <td>86</td>\n",
       "      <td>PG</td>\n",
       "      <td>6</td>\n",
       "      <td>20.99</td>\n",
       "      <td>English</td>\n",
       "      <td>Documentary</td>\n",
       "      <td>2005-05-30 20:21:07</td>\n",
       "      <td>1.99</td>\n",
       "    </tr>\n",
       "    <tr>\n",
       "      <th>4</th>\n",
       "      <td>1</td>\n",
       "      <td>ACADEMY DINOSAUR</td>\n",
       "      <td>2006</td>\n",
       "      <td>1</td>\n",
       "      <td>None</td>\n",
       "      <td>0.99</td>\n",
       "      <td>86</td>\n",
       "      <td>PG</td>\n",
       "      <td>6</td>\n",
       "      <td>20.99</td>\n",
       "      <td>English</td>\n",
       "      <td>Documentary</td>\n",
       "      <td>2005-06-17 20:24:00</td>\n",
       "      <td>0.99</td>\n",
       "    </tr>\n",
       "  </tbody>\n",
       "</table>\n",
       "</div>"
      ],
      "text/plain": [
       "   film_id             title  release_year  language_id original_language_id  \\\n",
       "0        1  ACADEMY DINOSAUR          2006            1                 None   \n",
       "1        1  ACADEMY DINOSAUR          2006            1                 None   \n",
       "2        1  ACADEMY DINOSAUR          2006            1                 None   \n",
       "3        1  ACADEMY DINOSAUR          2006            1                 None   \n",
       "4        1  ACADEMY DINOSAUR          2006            1                 None   \n",
       "\n",
       "   rental_rate  length rating  rental_duration  replacement_cost language  \\\n",
       "0         0.99      86     PG                6             20.99  English   \n",
       "1         0.99      86     PG                6             20.99  English   \n",
       "2         0.99      86     PG                6             20.99  English   \n",
       "3         0.99      86     PG                6             20.99  English   \n",
       "4         0.99      86     PG                6             20.99  English   \n",
       "\n",
       "      category         rental_date  amount  \n",
       "0  Documentary 2005-07-08 19:03:15    0.99  \n",
       "1  Documentary 2005-08-02 20:13:10    3.99  \n",
       "2  Documentary 2005-08-21 21:27:43    3.99  \n",
       "3  Documentary 2005-05-30 20:21:07    1.99  \n",
       "4  Documentary 2005-06-17 20:24:00    0.99  "
      ]
     },
     "execution_count": 119,
     "metadata": {},
     "output_type": "execute_result"
    }
   ],
   "source": [
    "query_june = '''select f.film_id, f.title, f.release_year, f.language_id,\n",
    "       f.original_language_id, f.rental_rate, f.length, f.rating,f.rental_duration,\n",
    "       f.replacement_cost,\n",
    "       l.name as 'language',\n",
    "       c.name as 'category', r.rental_date, p.amount from film f\n",
    "left join inventory i on f.film_id=i.film_id\n",
    "left join film_category fc on f.film_id=fc.film_id\n",
    "left join category c on c.category_id=fc.category_id\n",
    "left join language l on l.language_id=f.language_id\n",
    "left join rental r on r.inventory_id=i.inventory_id\n",
    "left join payment p on p.rental_id=r.rental_id\n",
    "ORDER BY f.film_id ASC;'''\n",
    "\n",
    "sakila_june = pd.read_sql_query(query_june, engine)\n",
    "sakila_june.head()"
   ]
  },
  {
   "cell_type": "code",
   "execution_count": null,
   "id": "29fe0b1a",
   "metadata": {},
   "outputs": [],
   "source": []
  },
  {
   "cell_type": "code",
   "execution_count": null,
   "id": "4e0cf5a9",
   "metadata": {},
   "outputs": [],
   "source": []
  },
  {
   "cell_type": "code",
   "execution_count": null,
   "id": "5d3896a4",
   "metadata": {},
   "outputs": [],
   "source": [
    "!git add . \n",
    "!git commit -m 'Complete'\n",
    "!"
   ]
  }
 ],
 "metadata": {
  "kernelspec": {
   "display_name": "Python 3 (ipykernel)",
   "language": "python",
   "name": "python3"
  },
  "language_info": {
   "codemirror_mode": {
    "name": "ipython",
    "version": 3
   },
   "file_extension": ".py",
   "mimetype": "text/x-python",
   "name": "python",
   "nbconvert_exporter": "python",
   "pygments_lexer": "ipython3",
   "version": "3.9.12"
  },
  "toc": {
   "base_numbering": 1,
   "nav_menu": {},
   "number_sections": true,
   "sideBar": true,
   "skip_h1_title": false,
   "title_cell": "Table of Contents",
   "title_sidebar": "Contents",
   "toc_cell": false,
   "toc_position": {},
   "toc_section_display": true,
   "toc_window_display": false
  }
 },
 "nbformat": 4,
 "nbformat_minor": 5
}
